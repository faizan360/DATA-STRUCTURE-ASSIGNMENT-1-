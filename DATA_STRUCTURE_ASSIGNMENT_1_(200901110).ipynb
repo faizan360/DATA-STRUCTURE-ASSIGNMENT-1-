{
  "nbformat": 4,
  "nbformat_minor": 0,
  "metadata": {
    "colab": {
      "name": "DATA STRUCTURE ASSIGNMENT 1 (200901110)",
      "provenance": [],
      "collapsed_sections": [],
      "authorship_tag": "ABX9TyN1ljNGLqOyXmuVdwnoZqAa",
      "include_colab_link": true
    },
    "kernelspec": {
      "name": "python3",
      "display_name": "Python 3"
    },
    "language_info": {
      "name": "python"
    }
  },
  "cells": [
    {
      "cell_type": "markdown",
      "metadata": {
        "id": "view-in-github",
        "colab_type": "text"
      },
      "source": [
        "<a href=\"https://colab.research.google.com/github/faizan360/DATA-STRUCTURE-ASSIGNMENT-1-/blob/main/DATA_STRUCTURE_ASSIGNMENT_1_(200901110).ipynb\" target=\"_parent\"><img src=\"https://colab.research.google.com/assets/colab-badge.svg\" alt=\"Open In Colab\"/></a>"
      ]
    },
    {
      "cell_type": "markdown",
      "metadata": {
        "id": "9pQzJ0r-z5CN"
      },
      "source": [
        "DATA STRUCTURE AND ALGORITHM//\n",
        "ASSIGNMENT-1//\n",
        "NAME : FAIZAN MAHMOOD //\n",
        "REG : 200901110 //\n",
        "CLASS : BSCS (01A) //\n"
      ]
    },
    {
      "cell_type": "code",
      "metadata": {
        "colab": {
          "base_uri": "https://localhost:8080/"
        },
        "id": "n10WW0rpHic0",
        "outputId": "11c5153a-e08c-4568-fd4a-4ba4d79b9e57"
      },
      "source": [
        "class Empty(Exception): #Q6.1\n",
        "    pass\n",
        "class ArrayStack:\n",
        "    \n",
        "    \n",
        "    def __init__(self):\n",
        "        self._data = []\n",
        "        \n",
        "    def __len__(self):\n",
        "        return len(self._data)\n",
        "    \n",
        "    def is_empty(self):\n",
        "        return len(self._data) == 0\n",
        "    \n",
        "    def push(self, e):\n",
        "        self._data.append(e)\n",
        "        \n",
        "    def top(self):\n",
        "        if self.is_empty():\n",
        "            raise Empty('Stack is empty')\n",
        "        return self._data[-1]\n",
        "    \n",
        "    def pop(self):\n",
        "        if self.is_empty():\n",
        "            raise Empty('Stack is empty')\n",
        "        return self._data.pop()\n",
        "x = ArrayStack()\n",
        "x.push(5)\n",
        "x.push(3)\n",
        "x.pop()\n",
        "x.push(2)\n",
        "x.push(8)\n",
        "x.pop()\n",
        "x.pop()\n",
        "x.push(9)\n",
        "x.push(1)\n",
        "x.pop()\n",
        "x.push(7)\n",
        "x.push(6)\n",
        "x.pop()\n",
        "x.pop()\n",
        "x.push(4)\n",
        "x.pop()\n",
        "x.pop()"
      ],
      "execution_count": 43,
      "outputs": [
        {
          "output_type": "execute_result",
          "data": {
            "text/plain": [
              "9"
            ]
          },
          "metadata": {},
          "execution_count": 43
        }
      ]
    },
    {
      "cell_type": "markdown",
      "metadata": {
        "id": "Vhzg50kNb74h"
      },
      "source": [
        "Q6.2\n",
        "top doens't add or remove any element, so we can ignore those\n",
        "\n",
        "If 3 pop operations failed, we only effectively had 7 complete pops\n",
        "\n",
        "Therefore, we should have 25-7 = 18 elements in the stack"
      ]
    },
    {
      "cell_type": "code",
      "metadata": {
        "colab": {
          "base_uri": "https://localhost:8080/"
        },
        "id": "fKY_5iStWCj7",
        "outputId": "1a74dcda-af2b-4817-fe8a-169def29f7ed"
      },
      "source": [
        "\n",
        "\n",
        "class Empty(Exception):#Q6.3\n",
        "    pass\n",
        "\n",
        "class Stack():\n",
        "    def __init__(self):\n",
        "        self._data = []\n",
        "         \n",
        "    def __len__(self):\n",
        "        return len(self._data)\n",
        "    \n",
        "    def is_empty(self):\n",
        "        return len(self._data) == 0\n",
        "    \n",
        "    def push(self, value):\n",
        "        self._data.append(value)\n",
        "    \n",
        "    def top(self):\n",
        "        return self._data[-1]\n",
        "    \n",
        "    def pop(self):\n",
        "        if self.is_empty():\n",
        "            raise Empty('List is empty')\n",
        "        return self._data.pop()\n",
        "    \n",
        "    def full_pop(self):\n",
        "        ans = []\n",
        "        while not self.is_empty():\n",
        "            ans.append(self.pop())\n",
        "        return ans\n",
        "    \n",
        "def transfer(S, T):\n",
        "    while not S.is_empty():\n",
        "        T.push(S.pop())\n",
        "\n",
        "\n",
        "\n",
        "S,T = Stack(), Stack()\n",
        "\n",
        "try: S.pop()\n",
        "except Exception as e: print (e)\n",
        "\n",
        "for i in range(20):\n",
        "    S.push(i)\n",
        "    \n",
        "print('Top of S is: ', S.top())\n",
        "transfer(S, T)  \n",
        "print('Top of T is: ', T.top())\n",
        "S.full_pop(), T.full_pop()"
      ],
      "execution_count": 45,
      "outputs": [
        {
          "output_type": "stream",
          "name": "stdout",
          "text": [
            "List is empty\n",
            "Top of S is:  19\n",
            "Top of T is:  0\n"
          ]
        },
        {
          "output_type": "execute_result",
          "data": {
            "text/plain": [
              "([], [0, 1, 2, 3, 4, 5, 6, 7, 8, 9, 10, 11, 12, 13, 14, 15, 16, 17, 18, 19])"
            ]
          },
          "metadata": {},
          "execution_count": 45
        }
      ]
    },
    {
      "cell_type": "code",
      "metadata": {
        "colab": {
          "base_uri": "https://localhost:8080/"
        },
        "id": "cJXt34VpWZlE",
        "outputId": "affc2421-d504-4722-a24f-37af8490d11f"
      },
      "source": [
        "class RStack(Stack): #Q6.4\n",
        "    def full_pop(self, in_order = False): #override the Stack.full_pop method\n",
        "        if self.is_empty():\n",
        "            return []\n",
        "        else:\n",
        "            ans = [self.pop()]\n",
        "            data =  self.full_pop(in_order)\n",
        "            if in_order: ans, data = data, ans\n",
        "            data.extend(ans)\n",
        "            return data\n",
        "\n",
        "        \n",
        "        \n",
        "#Option 2, O(n) for outputs in order\n",
        "class R2Stack(Stack):\n",
        "    def _full_pop_r(self, results, counter):\n",
        "        if self.is_empty():\n",
        "            return None\n",
        "        else:\n",
        "            results[counter] = self.pop()\n",
        "            counter += 1\n",
        "            self._full_pop_r(results, counter)\n",
        "        \n",
        "    \n",
        "    \n",
        "    def full_pop(self): #override the Stack.full_pop method\n",
        "        results = [None]*len(self)\n",
        "        counter = 0\n",
        "        self._full_pop_r(results, counter)\n",
        "        \n",
        "        return results\n",
        "\n",
        "\n",
        "    \n",
        "    \n",
        "S = RStack()\n",
        "for i in range(20):S.push(i)\n",
        "print('Option 1:', S.full_pop(in_order = True))\n",
        "\n",
        "\n",
        "S2 = R2Stack()\n",
        "for i in range(20):S2.push(i) \n",
        "print('Option 2:', S2.full_pop())"
      ],
      "execution_count": 46,
      "outputs": [
        {
          "output_type": "stream",
          "name": "stdout",
          "text": [
            "Option 1: [19, 18, 17, 16, 15, 14, 13, 12, 11, 10, 9, 8, 7, 6, 5, 4, 3, 2, 1, 0]\n",
            "Option 2: [19, 18, 17, 16, 15, 14, 13, 12, 11, 10, 9, 8, 7, 6, 5, 4, 3, 2, 1, 0]\n"
          ]
        }
      ]
    },
    {
      "cell_type": "code",
      "metadata": {
        "colab": {
          "base_uri": "https://localhost:8080/"
        },
        "id": "kCiSdZpzWe7o",
        "outputId": "ff794c8f-443a-45d1-d582-6b0829a8d8d9"
      },
      "source": [
        "def reverse_list(S): #Q6.5\n",
        "    temp = Stack()\n",
        "    for e in S:\n",
        "        temp.push(e)\n",
        "    \n",
        "    for i in range(len(S)):\n",
        "        S[i] = temp.pop()\n",
        "\n",
        "lists = [[1,2,3,4,5,6],\n",
        "        [3,2,5,6,7,8,9,5],\n",
        "        [9,8,7,6,5,4,3,2,1]]\n",
        "\n",
        "for l in lists:\n",
        "    print ('Before: ', l)\n",
        "    reverse_list(l)\n",
        "    print('After:  ', l)\n",
        "    print()"
      ],
      "execution_count": 54,
      "outputs": [
        {
          "output_type": "stream",
          "name": "stdout",
          "text": [
            "Before:  [1, 2, 3, 4, 5, 6]\n",
            "After:   [6, 5, 4, 3, 2, 1]\n",
            "\n",
            "Before:  [3, 2, 5, 6, 7, 8, 9, 5]\n",
            "After:   [5, 9, 8, 7, 6, 5, 2, 3]\n",
            "\n",
            "Before:  [9, 8, 7, 6, 5, 4, 3, 2, 1]\n",
            "After:   [1, 2, 3, 4, 5, 6, 7, 8, 9]\n",
            "\n"
          ]
        }
      ]
    },
    {
      "cell_type": "markdown",
      "metadata": {
        "id": "58hKxldYcHKa"
      },
      "source": [
        " Q6.6\n",
        " This is a sloppy implementation of this solution!\n",
        "\n",
        "\n",
        "I'm not entirely sure what this problem is asking since the solution presented \n",
        "in Code Fragment 6.4 would work here as well.  Instead, I think it might be checking\n",
        "that the order is (sequence that produces a num) operator (sequence that produces a num)\n",
        "\n",
        "ex.. (5+4)*(3/(2+3)) is correct\n",
        "\n",
        "The recursive aspect would involve checking that the values within a set of brackets is also an arithmetic expression,\n",
        "with the base case being that you don't find any \n",
        "\n",
        "\n",
        "\n",
        "Add to stack until you get to a close bracket, then perform a 'check pop' until you get to the previous open bracket.\n",
        "The result should be a number\n",
        "\n",
        "\n",
        "An alternative approach using recursion is to focus more on the (sequence that produces a num) operator (sequence that produces a num)\n",
        "\n",
        "Which means that you start by either finding a number or an (.  If you find an (, recurse to see if it collapses into \n",
        "a number.  If so, then look for an operation and the next number, and see if those collapse as well\n",
        "\n",
        "Every time you see the num op num patterns you collapse into one number"
      ]
    },
    {
      "cell_type": "code",
      "metadata": {
        "colab": {
          "base_uri": "https://localhost:8080/"
        },
        "id": "dtx6lQNLcRQn",
        "outputId": "8c4400d3-d4cd-43c0-a8d6-29191ba3346c"
      },
      "source": [
        "\n",
        "class AlgoStack(Stack):#Q6.6\n",
        "    def __repr__(self):\n",
        "        return str(self._data)\n",
        "    \n",
        "    \n",
        "    OPEN, CLOSE, OPERATORS = '(', ')', '+-/*^'\n",
        "    NUMBERS = '1234567890.'\n",
        "    def pop_until_open(self):\n",
        "        operator = True\n",
        "        while not self.is_empty():\n",
        "            ans = self.pop()\n",
        "            if ans in self.OPERATORS:\n",
        "                if operator: return False\n",
        "                else: operator = True\n",
        "                    \n",
        "            elif ans in self.NUMBERS:\n",
        "                operator = False\n",
        "                \n",
        "            elif ans in self.CLOSE: return False\n",
        "            elif ans in self.OPEN: \n",
        "                self.push('3')\n",
        "                return True  \n",
        "            \n",
        "        return False  #if you don't find an open bracket, there is a mismatch\n",
        "    \n",
        "    def check_expression(self, expression):\n",
        "        for char in expression:\n",
        "            \n",
        "            if char in self.CLOSE:\n",
        "                if not self.pop_until_open(): return False\n",
        "            else: self.push(char)\n",
        "        return True\n",
        "    \n",
        "\n",
        "    \n",
        "exps = ['(5+4)*(3/(2+3))',\n",
        "       '(5+4+)*(3/(2+3))',\n",
        "        '(5+4))*(3/(2+3))',\n",
        "       '5+(5+4)*(3/(2+3))']\n",
        "for exp in exps:\n",
        "    ss = AlgoStack()\n",
        "    print(exp, ss.check_expression(exp))"
      ],
      "execution_count": 55,
      "outputs": [
        {
          "output_type": "stream",
          "name": "stdout",
          "text": [
            "(5+4)*(3/(2+3)) True\n",
            "(5+4+)*(3/(2+3)) False\n",
            "(5+4))*(3/(2+3)) False\n",
            "5+(5+4)*(3/(2+3)) True\n"
          ]
        }
      ]
    },
    {
      "cell_type": "markdown",
      "metadata": {
        "id": "x07uUwumcxlf"
      },
      "source": [
        "Q6.7\n",
        "Return   Values in the Stack\n",
        "-        [5]\n",
        "-        [5,3]\n",
        "5        [3]\n",
        "-        [3,2]\n",
        "-        [3,2,8]\n",
        "3        [2,8]\n",
        "2        [8]\n",
        "-        [8,9]\n",
        "-        [8,9,1]\n",
        "8        [9,1]\n",
        "-        [9,1,7]\n",
        "-        [9,1,7,6]\n",
        "9        [1,7,6]\n",
        "1        [7,6]\n",
        "-        [7,6,4]\n",
        "7        [6,4]\n",
        "6        [4]"
      ]
    },
    {
      "cell_type": "markdown",
      "metadata": {
        "id": "AaKHZwn2YH0L"
      },
      "source": [
        " Q6.8\n",
        " Like before, a dequeue operation that fails doesn't remove anything from the queue, so there are essentially 10 dequeues \n",
        " First operations don't change the queue at all\n",
        " Therefore we have 32-10 = 22 (the size of the queue is 22 at that point"
      ]
    },
    {
      "cell_type": "markdown",
      "metadata": {
        "id": "7K4UzK5VaKNd"
      },
      "source": [
        "Q6.9 \n",
        "Since it was initially an empty queue, we will assume the front value was initially 0 (althogh this is\n",
        "not necessarily the case since you can empty the queue when front is a value other than 1)\n",
        "\n",
        "self._front only increments when a dequeue takes place so the final value would be 10 ahead of its initial value, \n",
        "or self._front == 10 is self._front was initially 0 as assumed. More generally, it's (10+initial) % 30\n"
      ]
    },
    {
      "cell_type": "markdown",
      "metadata": {
        "id": "6lyi03kDc-BJ"
      },
      "source": [
        "Q6.10\n",
        "This method will copy the data in exactly, but now there will be a huge gap between the middle of the data\n",
        "filled with None and the next value (which is situated at ._data[0])\n",
        "\n",
        "ex. a queue with 1,2,3,4,5,6,7 with front = 3:\n",
        "      F\n",
        "5,6,7,1,2,3,4\n",
        "\n",
        "would become:\n",
        "      F\n",
        "5,6,7,1,2,3,4,N,N,N,N,N,N,N\n",
        "\n",
        "the next insertion would be at front + self._size, which would be:\n",
        "      F\n",
        "5,6,7,1,2,3,4,N,N,N,8,N,N,N and so on, which results in the fragmentation of the data.  Successive dequeues would \n",
        "result in 1,2,3,4,N,N,N,....., N,N instead of the desired 1,2,3,4,5,6,7, is_empty==True\n",
        "\n",
        "\n",
        "In contract, the walk assures that the data will stay both in order and in direct sequence, producing:\n",
        "\n",
        "F\n",
        "1,2,3,4,5,6,7,N,N,N,N,N,N,N"
      ]
    },
    {
      "cell_type": "code",
      "metadata": {
        "colab": {
          "base_uri": "https://localhost:8080/"
        },
        "id": "ewwIFK7-XOIk",
        "outputId": "a3132a33-5290-4631-c70c-f945088ee24e"
      },
      "source": [
        "import collections #Q6.11\n",
        "\n",
        "class Queue():\n",
        "    def __init__(self):\n",
        "        self._data = collections.deque()\n",
        "        self._size = 0\n",
        "        \n",
        "        \n",
        "    def __len__(self):\n",
        "        return self._size\n",
        "    \n",
        "    def first(self):\n",
        "        return self._data[0]\n",
        "        \n",
        "    def enqueue(self, value):\n",
        "        self._size += 1\n",
        "        self._data.append(value) \n",
        "        \n",
        "    def is_empty(self):\n",
        "        return self._size == 0\n",
        "    \n",
        "    def dequeue(self):\n",
        "        if self.is_empty():\n",
        "            raise ValueError('Queue is empty')\n",
        "        else:\n",
        "            ans = self._data.popleft()\n",
        "            self._size -= 1\n",
        "            return ans\n",
        "        \n",
        "        \n",
        "dq = Queue()\n",
        "\n",
        "for i in range(10):\n",
        "    dq.enqueue(i)\n",
        "\n",
        "    \n",
        "print('First', dq.first(), 'Length', len(dq))\n",
        "while not dq.is_empty():\n",
        "    print( dq.dequeue(),  end = ', ')"
      ],
      "execution_count": 49,
      "outputs": [
        {
          "output_type": "stream",
          "name": "stdout",
          "text": [
            "First 0 Length 10\n",
            "0, 1, 2, 3, 4, 5, 6, 7, 8, 9, "
          ]
        }
      ]
    },
    {
      "cell_type": "code",
      "metadata": {
        "id": "XXT47RMVaQ-A"
      },
      "source": [
        "Q6.12\n",
        "Return   Values in the Stack\n",
        "-        [4]\n",
        "-        [4, 8]\n",
        "-        [4, 8, 9]\n",
        "-        [5, 4, 8, 9]\n",
        "9        [5, 4, 8, 9] (the back operation - I'm assuming they meant last() based on their implementation)\n",
        "5        [4, 8, 9]\n",
        "9        [4,8]\n",
        "-        [4,8,7]\n",
        "4        [4,8,7]\n",
        "7        [4,8,7]\n",
        "-        [4,8,7,6]\n",
        "4        [8,7,6]\n",
        "8        [7,6]"
      ],
      "execution_count": null,
      "outputs": []
    },
    {
      "cell_type": "code",
      "metadata": {
        "colab": {
          "base_uri": "https://localhost:8080/"
        },
        "id": "mxrzQJyTXZ8V",
        "outputId": "be8dfec3-b2b2-42d8-d867-899142e0875d"
      },
      "source": [
        "import collections #Q6.13\n",
        "\n",
        "#Setup\n",
        "D = collections.deque()\n",
        "Q = Queue()\n",
        "for i in range(1, 9, 1):\n",
        "    D.append(i)\n",
        "    \n",
        "    \n",
        "def rearrange_using_queue(D, Q):    \n",
        "    for i in range(5):             #   D          Q\n",
        "        Q.enqueue(D.popleft())     #[6,7,8], [1,2,3,4,5]\n",
        "        \n",
        "    for i in range(3):\n",
        "        D.append(Q.dequeue())      #[6,7,8,1,2,3], [4,5]\n",
        "        \n",
        "    \n",
        "    for i in range(2):\n",
        "        D.appendleft(Q.dequeue())  #[5,4,6,7,8,1,2,3], []\n",
        "        \n",
        "    for i in range(3):\n",
        "        Q.enqueue(D.pop())         #[5,4,6,7,8], [3,2,1]\n",
        "    \n",
        "    for i in range(3):\n",
        "        D.appendleft(Q.dequeue())  #[1,2,3,5,4,6,7,8]\n",
        "    \n",
        "    \n",
        "rearrange_using_queue(D, Q)\n",
        "\n",
        "print('Values of Q:')\n",
        "while not Q.is_empty():\n",
        "    print(Q.dequeue())\n",
        "    \n",
        "    \n",
        "print('Values of D')\n",
        "while len(D) != 0:\n",
        "    print(D.popleft())"
      ],
      "execution_count": 50,
      "outputs": [
        {
          "output_type": "stream",
          "name": "stdout",
          "text": [
            "Values of Q:\n",
            "Values of D\n",
            "1\n",
            "2\n",
            "3\n",
            "5\n",
            "4\n",
            "6\n",
            "7\n",
            "8\n"
          ]
        }
      ]
    },
    {
      "cell_type": "code",
      "metadata": {
        "colab": {
          "base_uri": "https://localhost:8080/"
        },
        "id": "o0BeuFJCX2Zv",
        "outputId": "3bed9524-5b55-4175-b164-412db3817c27"
      },
      "source": [
        "import collections  #Q6.14\n",
        "\n",
        "S = Stack()\n",
        "D = collections.deque()\n",
        "\n",
        "for i in range(1,9,1):\n",
        "    D.append(i)\n",
        "    \n",
        "\n",
        "    \n",
        "def rearrange_using_stack(D, S):\n",
        "    for _ in range(4):\n",
        "        S.push(D.popleft())    # [5,6,7,8], [1,2,3,4]\n",
        "        \n",
        "    D.append(S.pop())          # [5,6,7,8,4], [1,2,3]\n",
        "    \n",
        "    S.push(D.popleft())        # [6,7,8,4], [1,2,3,5]\n",
        "    \n",
        "    S.push(D.pop())            # [6,7,8], [1,2,3,5,4]\n",
        "    \n",
        "    for _ in range(5):\n",
        "        D.appendleft(S.pop())  #[1,2,3,5,4,6,7,8], []\n",
        "    \n",
        "    \n",
        "    \n",
        "    \n",
        "    \n",
        "rearrange_using_stack(D, S) \n",
        "    \n",
        "    \n",
        "print('Values of S')\n",
        "while not S.is_empty():\n",
        "    print(S.pop())\n",
        "    \n",
        "print('Values of D:')\n",
        "while len(D) != 0:\n",
        "    print(D.popleft())"
      ],
      "execution_count": 51,
      "outputs": [
        {
          "output_type": "stream",
          "name": "stdout",
          "text": [
            "Values of S\n",
            "Values of D:\n",
            "1\n",
            "2\n",
            "3\n",
            "5\n",
            "4\n",
            "6\n",
            "7\n",
            "8\n"
          ]
        }
      ]
    }
  ]
}